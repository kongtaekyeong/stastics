{
  "nbformat": 4,
  "nbformat_minor": 0,
  "metadata": {
    "colab": {
      "provenance": []
    },
    "kernelspec": {
      "name": "python3",
      "display_name": "Python 3"
    },
    "language_info": {
      "name": "python"
    }
  },
  "cells": [
    {
      "cell_type": "code",
      "execution_count": 1,
      "metadata": {
        "colab": {
          "base_uri": "https://localhost:8080/"
        },
        "id": "HGjNQAQRR9x0",
        "outputId": "77804d04-606f-4c84-f47b-dc0e10b635b7"
      },
      "outputs": [
        {
          "output_type": "stream",
          "name": "stdout",
          "text": [
            "[6, 5, 4, 3, 2]\n"
          ]
        }
      ],
      "source": [
        "a = [2, 3, 4, 5, 6]\n",
        "rev_a = []\n",
        "\n",
        "for _ in range(len(a)):\n",
        "  rev_a.append(a.pop())\n",
        "\n",
        "print(rev_a)\n",
        "\n",
        ""
      ]
    },
    {
      "cell_type": "code",
      "source": [],
      "metadata": {
        "id": "5zXYoLnZSHGq"
      },
      "execution_count": null,
      "outputs": []
    }
  ]
}